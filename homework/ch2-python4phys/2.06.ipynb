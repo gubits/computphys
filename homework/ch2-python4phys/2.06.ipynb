{
 "cells": [
  {
   "cell_type": "markdown",
   "id": "a2e581f9-f78e-4ed0-9c3f-1cf54ff1eda3",
   "metadata": {},
   "source": [
    "## 2.6 Planetary orbits\n",
    "\n",
    "The orbit in space of one body\n",
    "around another, such as a planet around the Sun, need not be\n",
    "circular.  In general it takes the form of an ellipse, with the body\n",
    "sometimes closer in and sometimes further out.  If you are given the\n",
    "distance $\\ell_1$ of closest approach that a planet makes to the Sun, also\n",
    "called its perihelion, and its linear velocity $v_1$ at\n",
    "perihelion, then any other property of the orbit can be calculated\n",
    "from these two as follows.\n",
    "- Kepler's second law tells us that the distance $\\ell_2$ and\n",
    "  velocity $v_2$ of the planet at its most distant point, or\n",
    "  aphelion, satisfy $\\ell_2 v_2 = \\ell_1 v_1$.  At the same\n",
    "  time the total energy, kinetic plus gravitational, of a planet with\n",
    "  velocity $v$ and distance $r$ from the Sun is given by\n",
    "$$\n",
    "E = 1/2 m v^2 - G {mM\\over r},\n",
    "$$\n",
    "where $m$ is the planet's mass, $M=1.9891\\times10^{30}\\,$kg is the mass of\n",
    "the Sun, and $G=6.6738\\times10^{-11}\\,\\mathrm{m^3\\,kg^{-1}\\,s^{-2}}$ is\n",
    "Newton's gravitational constant.  Given that energy must be conserved, show\n",
    "that $v_2$ is the smaller root of the quadratic equation\n",
    "$$\n",
    "v_2^2 - {2GM\\over v_1\\ell_1} v_2 - \\biggl[ v_1^2 - {2GM\\over\\ell_1}\n",
    "  \\biggr] = 0.\n",
    "$$\n",
    "Once we have $v_2$ we can calculate $\\ell_2$ using the relation $\\ell_2 =\n",
    "\\ell_1 v_1/v_2$.\n",
    "\n",
    "- Given the values of $v_1$, $\\ell_1$, and~$\\ell_2$, other parameters\n",
    "  of the orbit are given by simple formulas can that be derived from\n",
    "  Kepler's laws and the fact that the orbit is an ellipse:\n",
    "\\begin{align*}\n",
    "\\textrm{Semi-major axis:} \\qquad a &= {1\\over 2}(\\ell_1+\\ell_2), \\\\\n",
    "\\textrm{Semi-minor axis:} \\qquad b &= \\sqrt{\\ell_1\\ell_2}\\,, \\\\\n",
    "\\textrm{Orbital period:} \\hspace{1.80em}\n",
    "  T &= {2\\pi ab\\over\\ell_1 v_1}\\,, \\\\\n",
    "\\textrm{Orbital eccentricity:} \\qquad e &=\n",
    "  {\\ell_2-\\ell_1\\over\\ell_2+\\ell_1}.\n",
    "\\end{align*}\n",
    "\n",
    "Write a program that asks the user to enter the distance to the Sun and\n",
    "velocity at perihelion, then calculates and prints the quantities\n",
    "$\\ell_2$, $v_2$, $T$, and $e$.\n",
    "\n",
    "\n",
    "- Test your program by having it calculate the properties of the orbits\n",
    "  of the Earth (for which $\\ell_1=1.4710\\times10^{11}\\,$m and\n",
    "  $v_1=3.0287\\times10^4\\,\\mathrm{m\\,s^{-1}}$) and Halley's comet\n",
    "  ($\\ell_1=8.7830\\times10^{10}\\,$m and\n",
    "  $v_1=5.4529\\times10^4\\,\\mathrm{m\\,s^{-1}}$).  Among other things, you\n",
    "  should find that the orbital period of the Earth is one year and that of\n",
    "  Halley's comet is about 76 years.\n"
   ]
  },
  {
   "cell_type": "code",
   "execution_count": null,
   "id": "f7100f79-7362-4dc1-a9b8-dbe90f11c815",
   "metadata": {
    "tags": []
   },
   "outputs": [],
   "source": [
    "# import math\n",
    "\n",
    "L1=float ( input (\"Please input the distance to the Sun at perihelion : (meters)\") )\n",
    "V1=float( input ( \"Please input the velocity at perihelion :  (meters/s)\") )\n",
    "\n",
    "M = 1.9891e+30 # the mass of the Sun\n",
    "G = 6.6738e-11 # Newton's gravational constant\n",
    "\n",
    "# for the quadratic equation of unknow quantity $l_2$\n",
    "A=1\n",
    "B=-(2*G*M)/(L1*V1)\n",
    "C=-(V1*V1-(2*G*M)/L1)\n",
    "\n",
    "temp=math.sqrt(math.pow(B,2)-4*A*C)\n",
    "x1=(-B+temp)/(2*A)\n",
    "x2=(-B-temp)/(2*A)\n",
    "# find the smaller value\n",
    "if (x1>x2):\n",
    "    V2=x2\n",
    "else :\n",
    "    V2=x1\n",
    "L2=L1*V1/V2\n",
    "\n",
    "a=0.5*(L1+L2)\n",
    "b=math.sqrt (L1*L2)\n",
    "T=6.28*a*b/(L1*V1)\n",
    "e=(L2 - L1)/(L2+L1)\n",
    "\n",
    "print ( 'L2:' ,L2)\n",
    "print ( 'V2:' ,V2)\n",
    "year=365*24*3600 # second to year\n",
    "print ( 'T:' ,T/year,\"year\")\n",
    "print ( 'e: ' , e)\n",
    "#input ( ' press any key to quit ' )\n"
   ]
  },
  {
   "cell_type": "markdown",
   "id": "46bec76e-7621-4979-8ef6-ca0b80389683",
   "metadata": {
    "tags": []
   },
   "source": [
    "### Conclusion: \n",
    "- Practice the useage of If statements\n",
    "- Note: \"Do not repeat yourself\".\n"
   ]
  }
 ],
 "metadata": {
  "kernelspec": {
   "display_name": "Python 3 (ipykernel)",
   "language": "python",
   "name": "python3"
  },
  "language_info": {
   "codemirror_mode": {
    "name": "ipython",
    "version": 3
   },
   "file_extension": ".py",
   "mimetype": "text/x-python",
   "name": "python",
   "nbconvert_exporter": "python",
   "pygments_lexer": "ipython3",
   "version": "3.11.5"
  }
 },
 "nbformat": 4,
 "nbformat_minor": 5
}
