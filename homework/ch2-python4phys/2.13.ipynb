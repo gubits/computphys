{
 "cells": [
  {
   "cell_type": "markdown",
   "id": "3ffb2871-b444-44b6-a20e-92cc6b083e80",
   "metadata": {
    "tags": []
   },
   "source": [
    "## 2.13 Recursion (递归)\n",
    "\n",
    "A useful feature of user-defined functions is **recursion**, the\n",
    "ability of a function to call itself.  For example, consider the following\n",
    "definition of the factorial $n!$ of a positive integer $n$:\n",
    "$$\n",
    "n! = \\biggl\\lbrace\n",
    "\\begin{array}{ll}\n",
    "  1 & \\qquad\\mbox{if $n=1$,} \\\\\n",
    "  n\\times(n-1)! & \\qquad\\mbox{if $n>1$.}\n",
    "\\end{array}  \n",
    "$$\n",
    "\n",
    "This constitutes a complete definition of the factorial which allows us to\n",
    "calculate the value of $n!$ for any positive integer.  We can employ this\n",
    "definition directly to create a Python function for factorials, like this:\n",
    "```python\n",
    "def factorial(n):\n",
    "    if n==1:\n",
    "        return 1\n",
    "    else:\n",
    "        return n*factorial(n-1)\n",
    "```\n",
    "Note how, if $n$ is not equal to 1, the function calls itself to calculate\n",
    "the factorial of $n-1$.  This is recursion.  If we now say\n",
    "**factorial(5)** the computer will correctly print the\n",
    "answer 120.\n",
    "- We encountered the Catalan numbers $C_n$ previously in Exercise 2.7 on page 46. With just a little rearrangement, the definition given there\n",
    "  can be rewritten in the form\n",
    "$$\n",
    "C_n = \\left\\lbrace\\begin{array}{ll}\n",
    "  \\rule[-9pt]{0pt}{10pt}1 & \\qquad\\mbox{if $n=0$,} \\\\\n",
    "  \\dfrac{4n-2}{n+1}\\,C_{n-1} & \\qquad\\mbox{if $n>0$.}\n",
    "\\end{array}\\right.\n",
    "$$\n",
    "Write a Python function, using recursion, that calculates $C_n$.  Use your\n",
    "function to calculate and print $C_{100}$.\n",
    "- Euclid showed that the greatest common divisor $g(m,n)$ of two\n",
    "  nonnegative integers $m$ and $n$ satisfies\n",
    "$$\n",
    "g(m,n) = \\biggl\\lbrace\\begin{array}{ll}\n",
    "  m & \\qquad\\mbox{if $n=0$,} \\\\\n",
    "  g(n,m\\>\\textrm{mod}\\>n) & \\qquad\\mbox{if $n>0$.}\n",
    "\\end{array}\n",
    "$$\n",
    "Write a Python function **g(m,n)** that employs recursion to calculate\n",
    "the greatest common divisor of $m$ and $n$ using this formula.  Use your\n",
    "function to calculate and print the greatest common divisor of 108 and 192.\n",
    "\n",
    "\n",
    "Comparing the calculation of the Catalan numbers in part (a) above with\n",
    "that of Exercise 2.7, we see that it's possible to do the calculation two\n",
    "ways, either directly or using recursion.  In most cases, if a quantity can\n",
    "be calculated **without** recursion, then it will be faster to do so,\n",
    "and we normally recommend taking this route if possible.  There are some\n",
    "calculations, however, that are essentially impossible (or at least much\n",
    "more difficult) without recursion.  We will see some examples later in this\n",
    "book.\n"
   ]
  },
  {
   "cell_type": "code",
   "execution_count": 1,
   "id": "f6970f7d-fa4a-488b-b01e-49b0ea164c01",
   "metadata": {},
   "outputs": [
    {
     "name": "stdout",
     "output_type": "stream",
     "text": [
      "C_100 = 8.96519947090131e+56\n",
      "g(108,192) = 12\n"
     ]
    }
   ],
   "source": [
    "# 1)\n",
    "def Cn(n):\n",
    "    if (n == 0):\n",
    "        return 1\n",
    "    else:\n",
    "        return (4*n-2)*Cn(n-1)/(n+1)\n",
    "\n",
    "print(\"C_100 =\", Cn(100))\n",
    "\n",
    "# 2)\n",
    "\n",
    "def greatestcd(m, n):\n",
    "    if(n == 0):\n",
    "        return m\n",
    "    else:\n",
    "        return gcd(n, m % n)\n",
    "\n",
    "print(\"g(108,192) =\", gcd(108, 192))"
   ]
  },
  {
   "cell_type": "markdown",
   "id": "2a98c13b-b3a9-497d-9cfb-877e867d008d",
   "metadata": {},
   "source": [
    "## Conclusions:\n",
    "\n",
    "Recursion in Python is a programming technique where a function calls itself repeatedly **until it reaches a base case**. It is a way to solve complex problems by **breaking them down into smaller, simpler instances of the same problem**.\n",
    "\n",
    "The merits of using recursion include:\n",
    "\n",
    "Simplicity: Recursion allows you to solve complex problems using a concise and elegant approach. It can simplify the code by breaking down the problem into smaller, more manageable parts.\n",
    "\n",
    "Readability: Recursive code often closely mirrors the problem's definition or mathematical formulation, making it easier to understand and reason about.\n",
    "\n",
    "Problem-solving: Recursion is particularly useful for solving problems that exhibit a recursive or self-referential structure. It enables you to solve problems by reducing them to smaller subproblems.\n",
    "\n",
    "However, it's important to note that **recursion can have some drawbacks**, such as increased memory usage and potential performance issues if not implemented carefully. Additionally, excessive recursion can lead to stack overflow errors. Hence, it's essential to **ensure that the recursive function has proper base cases and termination conditions**.\n"
   ]
  }
 ],
 "metadata": {
  "kernelspec": {
   "display_name": "Python 3 (ipykernel)",
   "language": "python",
   "name": "python3"
  },
  "language_info": {
   "codemirror_mode": {
    "name": "ipython",
    "version": 3
   },
   "file_extension": ".py",
   "mimetype": "text/x-python",
   "name": "python",
   "nbconvert_exporter": "python",
   "pygments_lexer": "ipython3",
   "version": "3.11.5"
  }
 },
 "nbformat": 4,
 "nbformat_minor": 5
}
