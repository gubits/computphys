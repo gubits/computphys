{
 "cells": [
  {
   "cell_type": "markdown",
   "id": "3ffb2871-b444-44b6-a20e-92cc6b083e80",
   "metadata": {
    "tags": []
   },
   "source": [
    "## 2.13 Recursion\n",
    "\n",
    "A useful feature of user-defined functions is **recursion**, the\n",
    "ability of a function to call itself.  For example, consider the following\n",
    "definition of the factorial $n!$ of a positive integer $n$:\n",
    "$$\n",
    "n! = \\biggl\\lbrace\n",
    "\\begin{array}{ll}\n",
    "  1 & \\qquad\\mbox{if $n=1$,} \\\\\n",
    "  n\\times(n-1)! & \\qquad\\mbox{if $n>1$.}\n",
    "\\end{array}  \n",
    "$$\n",
    "\n",
    "This constitutes a complete definition of the factorial which allows us to\n",
    "calculate the value of $n!$ for any positive integer.  We can employ this\n",
    "definition directly to create a Python function for factorials, like this:\n",
    "```python\n",
    "def factorial(n):\n",
    "    if n==1:\n",
    "        return 1\n",
    "    else:\n",
    "        return n*factorial(n-1)\n",
    "```\n",
    "Note how, if $n$ is not equal to 1, the function calls itself to calculate\n",
    "the factorial of $n-1$.  This is recursion.  If we now say\n",
    "**factorial(5))** the computer will correctly print the\n",
    "answer 120.\n",
    "- We encountered the Catalan numbers $C_n$ previously in Exercise 2.7 on page 46. With just a little rearrangement, the definition given there\n",
    "  can be rewritten in the form\n",
    "$$\n",
    "C_n = \\left\\lbrace\\begin{array}{ll}\n",
    "  \\rule[-9pt]{0pt}{10pt}1 & \\qquad\\mbox{if $n=0$,} \\\\\n",
    "  \\dfrac{4n-2}{n+1}\\,C_{n-1} & \\qquad\\mbox{if $n>0$.}\n",
    "\\end{array}\\right.\n",
    "$$\n",
    "Write a Python function, using recursion, that calculates $C_n$.  Use your\n",
    "function to calculate and print $C_{100}$.\n",
    "- Euclid showed that the greatest common divisor $g(m,n)$ of two\n",
    "  nonnegative integers $m$ and $n$ satisfies\n",
    "$$\n",
    "g(m,n) = \\biggl\\lbrace\\begin{array}{ll}\n",
    "  m & \\qquad\\mbox{if $n=0$,} \\\\\n",
    "  g(n,m\\>\\textrm{mod}\\>n) & \\qquad\\mbox{if $n>0$.}\n",
    "\\end{array}\n",
    "$$\n",
    "Write a Python function **g(m,n)** that employs recursion to calculate\n",
    "the greatest common divisor of $m$ and $n$ using this formula.  Use your\n",
    "function to calculate and print the greatest common divisor of 108 and 192.\n",
    "\n",
    "\n",
    "Comparing the calculation of the Catalan numbers in part (a) above with\n",
    "that of Exercise 2.7, we see that it's possible to do the calculation two\n",
    "ways, either directly or using recursion.  In most cases, if a quantity can\n",
    "be calculated **without** recursion, then it will be faster to do so,\n",
    "and we normally recommend taking this route if possible.  There are some\n",
    "calculations, however, that are essentially impossible (or at least much\n",
    "more difficult) without recursion.  We will see some examples later in this\n",
    "book.\n"
   ]
  },
  {
   "cell_type": "code",
   "execution_count": null,
   "id": "248f67a6-eb60-4044-ba34-6c7e07192fb2",
   "metadata": {},
   "outputs": [],
   "source": []
  },
  {
   "cell_type": "code",
   "execution_count": null,
   "id": "4cb93956-69f2-4121-8a8e-13d79bee4a3d",
   "metadata": {},
   "outputs": [],
   "source": []
  }
 ],
 "metadata": {
  "kernelspec": {
   "display_name": "Python 3 (ipykernel)",
   "language": "python",
   "name": "python3"
  },
  "language_info": {
   "codemirror_mode": {
    "name": "ipython",
    "version": 3
   },
   "file_extension": ".py",
   "mimetype": "text/x-python",
   "name": "python",
   "nbconvert_exporter": "python",
   "pygments_lexer": "ipython3",
   "version": "3.11.5"
  }
 },
 "nbformat": 4,
 "nbformat_minor": 5
}
