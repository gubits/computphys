{
 "cells": [
  {
   "cell_type": "markdown",
   "id": "3ffb2871-b444-44b6-a20e-92cc6b083e80",
   "metadata": {},
   "source": [
    "## 2.8/12 Prime numbers\n",
    "\n",
    "The program in Example 2.8 is not a very efficient way of\n",
    "calculating prime numbers: it checks each number to see if it is divisible\n",
    "by any number less than it.  We can develop a much faster program for prime\n",
    "numbers by making use of the following observations:\n",
    "\n",
    "- A number $n$ is prime if it has no prime factors less than $n$.\n",
    "  Hence we only need to check if it is divisible by other primes.\n",
    "- If a number $n$ is non-prime, having a factor $r$, then $n=rs$, where\n",
    "  $s$ is also a factor.  If $r\\ge\\sqrt{n}$ then $n = rs \\ge \\sqrt{n}s$,\n",
    "  which implies that $s\\le\\sqrt{n}$.  In other words, any non-prime must\n",
    "  have factors, and hence also prime factors, less than or equal\n",
    "  to $\\sqrt{n}$.  Thus to determine if a number is prime we have to check\n",
    "  its prime factors only up to and including $\\sqrt{n}$---if there are none\n",
    "  then the number is prime.\n",
    "- If we find even a single prime factor less than $\\sqrt{n}$ then we\n",
    "  know that the number is non-prime, and hence there is no need to check\n",
    "  any further---we can abandon this number and move on to something else.\n",
    "\n",
    "Write a Python program that finds all the primes up to ten thousand.\n",
    "Create a list to store the primes, which starts out with just the one prime\n",
    "number 2 in it.  Then for each number $n$ from 3 to $10\\,000$ check whether\n",
    "the number is divisible by any of the primes in the list up to and\n",
    "including $\\sqrt{n}$.  As soon as you find a single prime factor you can\n",
    "stop checking the rest of them---you know $n$ is not a prime.  If you find\n",
    "no prime factors $\\sqrt{n}$ or less then $n$ is prime and you should add it\n",
    "to the list.  You can print out the list all in one go at the end of the\n",
    "program, or you can print out the individual numbers as you find them.\n"
   ]
  },
  {
   "cell_type": "code",
   "execution_count": null,
   "id": "248f67a6-eb60-4044-ba34-6c7e07192fb2",
   "metadata": {},
   "outputs": [],
   "source": []
  },
  {
   "cell_type": "code",
   "execution_count": null,
   "id": "4cb93956-69f2-4121-8a8e-13d79bee4a3d",
   "metadata": {},
   "outputs": [],
   "source": []
  }
 ],
 "metadata": {
  "kernelspec": {
   "display_name": "Python 3 (ipykernel)",
   "language": "python",
   "name": "python3"
  },
  "language_info": {
   "codemirror_mode": {
    "name": "ipython",
    "version": 3
   },
   "file_extension": ".py",
   "mimetype": "text/x-python",
   "name": "python",
   "nbconvert_exporter": "python",
   "pygments_lexer": "ipython3",
   "version": "3.11.5"
  }
 },
 "nbformat": 4,
 "nbformat_minor": 5
}
