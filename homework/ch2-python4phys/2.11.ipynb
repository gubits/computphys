{
 "cells": [
  {
   "cell_type": "markdown",
   "id": "3ffb2871-b444-44b6-a20e-92cc6b083e80",
   "metadata": {},
   "source": [
    "## 2.11 Binomial coefficients\n",
    "\n",
    "The binomial coefficient ${n\\choose k}$ is an integer equal to\n",
    "$$\n",
    "{n\\choose k} = {n!\\over k!(n-k)!}\n",
    "  = {n\\times(n-1)\\times(n-2)\\times\\ldots\\times(n-k+1)\\over\n",
    "     1\\times2\\times\\ldots\\times k}\n",
    "$$\n",
    "when $k\\ge1$, or ${n\\choose0}=1$ when $k=0$.\n",
    "\n",
    "- Using this form for the binomial coefficient, write a user-defined\n",
    "  function **binomial(n,k)** that calculates the binomial coefficient\n",
    "  for given $n$ and $k$.  Make sure your function returns the answer in the\n",
    "  form of an integer (not a float) and gives the correct value of 1 for the\n",
    "  case where $k=0$.\n",
    "- Using your function write a program to print out the first 20 lines\n",
    "  of ``Pascal's triangle.''  The $n$th line of Pascal's triangle contains\n",
    "  $n+1$ numbers, which are the coefficients ${n\\choose 0}$, ${n\\choose1}$,\n",
    "  and so on up to ${n\\choose n}$.  Thus the first few lines are\n",
    "    - 1 1 \n",
    "    - 1 2 1 \n",
    "    - 1 3 3 1 \n",
    "    - 1 4 6 4 1\n",
    "\n",
    "- The probability that an unbiased coin, tossed $n$ times, will come up\n",
    "  heads $k$ times is ${n\\choose k}/2^n$.  Write a program to calculate\n",
    "  **(a)** the total probability that a coin tossed 100 times comes up heads\n",
    "  exactly 60 times, and **(b)** the probability that it comes up heads 60 or\n",
    "  more times."
   ]
  },
  {
   "cell_type": "markdown",
   "id": "b0031d76-cbff-49f0-8dde-cbfc116549bc",
   "metadata": {
    "tags": []
   },
   "source": [
    "## Analysis: \n",
    "1. be familar with the functions provided by popular packages.\n",
    "2. do not repeat yourself!"
   ]
  },
  {
   "cell_type": "code",
   "execution_count": 25,
   "id": "1ac429f6-11ce-4429-b723-95c77c386626",
   "metadata": {
    "tags": []
   },
   "outputs": [
    {
     "name": "stdout",
     "output_type": "stream",
     "text": [
      "1 1 \n",
      "1 2 1 \n",
      "1 3 3 1 \n",
      "1 4 6 4 1 \n",
      "1 5 10 10 5 1 \n",
      "1 6 15 20 15 6 1 \n",
      "1 7 21 35 35 21 7 1 \n",
      "1 8 28 56 70 56 28 8 1 \n",
      "1 9 36 84 126 126 84 36 9 1 \n",
      "1 10 45 120 210 252 210 120 45 10 1 \n"
     ]
    },
    {
     "name": "stdin",
     "output_type": "stream",
     "text": [
      "Please input the total times of toss, n= 100\n",
      "Please input the times of head, k= 60\n"
     ]
    },
    {
     "name": "stdout",
     "output_type": "stream",
     "text": [
      "For question a, the probability is 0.010843866711637987\n"
     ]
    },
    {
     "name": "stdin",
     "output_type": "stream",
     "text": [
      "Pleaseinput the minium times of head, kmin= 60\n"
     ]
    },
    {
     "name": "stdout",
     "output_type": "stream",
     "text": [
      "For question b, the probability is 0.028443966820490392\n"
     ]
    }
   ],
   "source": [
    "###### The user-defined function \n",
    "# review example 2.6, factorial()\n",
    "# both math package has a function factorial()\n",
    "import math as np\n",
    "\n",
    "# 1)\n",
    "def binomial(n, k):\n",
    "    #import math as np\n",
    "    if (k > n):\n",
    "        return \"err: k is bigger than n!\"\n",
    "    elif (k == 0):\n",
    "        return 1\n",
    "    else:\n",
    "        return np.factorial(n) // (np.factorial(k)*np.factorial(n-k))\n",
    "     \n",
    "# 2) \n",
    "# the print pascals triangle is defined as a function also.\n",
    "def print_pascals_triangle(line_no):\n",
    "    for n in range(1,line_no+1):\n",
    "        for k in range(n+1):\n",
    "            print(binomial(n, k), end=' ')\n",
    "        print()\n",
    "# simply call the function print_pascals_triangle()\n",
    "print_pascals_triangle(10)\n",
    "\n",
    "# 3)\n",
    "# input the toss times (n), and the heads times (k), and the least times of heads (k_min)\n",
    "n = int(input(\"Please input the total times of toss, n=\"))\n",
    "k = int(input(\"Please input the times of head, k=\"))\n",
    "\n",
    "\n",
    "prob_n_k = binomial(n,k)/np.pow(2,n)\n",
    "print(\"For question a, the probability is\", prob_n_k)\n",
    "\n",
    "k_min = int(input(\"Pleaseinput the minium times of head, kmin=\"))\n",
    "prob_n_k_sum = 0.\n",
    "for i in range(k_min,n+1):\n",
    "    prob_n_k_sum += binomial(n,i)\n",
    "    \n",
    "prob_n_k_sum = prob_n_k_sum/np.pow(2,n)   \n",
    "print(\"For question b, the probability is\", prob_n_k_sum)"
   ]
  },
  {
   "cell_type": "code",
   "execution_count": null,
   "id": "61f254a3-3da8-4bfb-9173-a380941c836b",
   "metadata": {},
   "outputs": [],
   "source": []
  }
 ],
 "metadata": {
  "kernelspec": {
   "display_name": "Python 3 (ipykernel)",
   "language": "python",
   "name": "python3"
  },
  "language_info": {
   "codemirror_mode": {
    "name": "ipython",
    "version": 3
   },
   "file_extension": ".py",
   "mimetype": "text/x-python",
   "name": "python",
   "nbconvert_exporter": "python",
   "pygments_lexer": "ipython3",
   "version": "3.11.5"
  }
 },
 "nbformat": 4,
 "nbformat_minor": 5
}
