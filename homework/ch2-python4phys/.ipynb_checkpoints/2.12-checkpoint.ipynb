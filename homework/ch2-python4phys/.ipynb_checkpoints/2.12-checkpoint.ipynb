{
 "cells": [
  {
   "cell_type": "markdown",
   "id": "3ffb2871-b444-44b6-a20e-92cc6b083e80",
   "metadata": {},
   "source": [
    "## 2.11 Binomial coefficients\n",
    "\n",
    "The binomial coefficient ${n\\choose k}$ is an integer equal to\n",
    "$$\n",
    "{n\\choose k} = {n!\\over k!(n-k)!}\n",
    "  = {n\\times(n-1)\\times(n-2)\\times\\ldots\\times(n-k+1)\\over\n",
    "     1\\times2\\times\\ldots\\times k}\n",
    "$$\n",
    "when $k\\ge1$, or ${n\\choose0}=1$ when $k=0$.\n",
    "\n",
    "- Using this form for the binomial coefficient, write a user-defined\n",
    "  function **binomial(n,k)** that calculates the binomial coefficient\n",
    "  for given $n$ and $k$.  Make sure your function returns the answer in the\n",
    "  form of an integer (not a float) and gives the correct value of 1 for the\n",
    "  case where $k=0$.\n",
    "- Using your function write a program to print out the first 20 lines\n",
    "  of ``Pascal's triangle.''  The $n$th line of Pascal's triangle contains\n",
    "  $n+1$ numbers, which are the coefficients ${n\\choose 0}$, ${n\\choose1}$,\n",
    "  and so on up to ${n\\choose n}$.  Thus the first few lines are\n",
    "    - 1 1 \n",
    "    - 1 2 1 \n",
    "    - 1 3 3 1 \n",
    "    - 1 4 6 4 1\n",
    "\n",
    "- The probability that an unbiased coin, tossed $n$ times, will come up\n",
    "  heads $k$ times is ${n\\choose k}/2^n$.  Write a program to calculate\n",
    "  **(a)** the total probability that a coin tossed 100 times comes up heads\n",
    "  exactly 60 times, and **(b)** the probability that it comes up heads 60 or\n",
    "  more times."
   ]
  },
  {
   "cell_type": "code",
   "execution_count": null,
   "id": "248f67a6-eb60-4044-ba34-6c7e07192fb2",
   "metadata": {},
   "outputs": [],
   "source": []
  },
  {
   "cell_type": "code",
   "execution_count": null,
   "id": "4cb93956-69f2-4121-8a8e-13d79bee4a3d",
   "metadata": {},
   "outputs": [],
   "source": []
  }
 ],
 "metadata": {
  "kernelspec": {
   "display_name": "Python 3 (ipykernel)",
   "language": "python",
   "name": "python3"
  },
  "language_info": {
   "codemirror_mode": {
    "name": "ipython",
    "version": 3
   },
   "file_extension": ".py",
   "mimetype": "text/x-python",
   "name": "python",
   "nbconvert_exporter": "python",
   "pygments_lexer": "ipython3",
   "version": "3.11.5"
  }
 },
 "nbformat": 4,
 "nbformat_minor": 5
}
