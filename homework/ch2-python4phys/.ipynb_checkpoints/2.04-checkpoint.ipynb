{
 "cells": [
  {
   "cell_type": "markdown",
   "id": "7baff2b8-07bb-43ff-9d27-a3f452ece10d",
   "metadata": {},
   "source": [
    "# Chapter 2 Python for Physicists\n",
    "## Exe 2.4  \n",
    "A spaceship travels from Earth in a straight line at relativistic speed $v$ to another planet $x$ light years away. Write a program to ask the user for the value of $x$ and the speed $v$ as a fraction of the speed of light $c$, then print out the time in years that the spaceship takes to reach its destination.\n",
    "\n",
    "(a) in the rest frame of an observer on Earth;\n",
    "\n",
    "(b) as perceived by a passenger on board the ship. \n",
    "\n",
    "Use your program to calculate the answers for a planet 10 light years away with $v = 0.99$ c. "
   ]
  },
  {
   "cell_type": "code",
   "execution_count": 6,
   "id": "01b187b2-a827-4401-a7ee-b2622a9ce132",
   "metadata": {
    "tags": []
   },
   "outputs": [
    {
     "name": "stdin",
     "output_type": "stream",
     "text": [
      "Please input the speed v of the spaceship: 0.99\n",
      "Please input the distance x between earth and the planet: 10\n"
     ]
    },
    {
     "name": "stdout",
     "output_type": "stream",
     "text": [
      "(a) oberved on Earth:10.10101 years;\n",
      "(b) oberved on board the ship:1.42492 years.\n"
     ]
    }
   ],
   "source": [
    "import math as mt\n",
    "\n",
    "# Define the distance in [light year] and velocity in c. \n",
    "v_ref_E=float(input('Please input the speed v of the spaceship:'))\n",
    "x_ref_E=float(input('Please input the distance x between earth and the planet:'))\n",
    "\n",
    "# light speed\n",
    "C=1.0 \n",
    "\n",
    "# time in the reference of Earth\n",
    "t_ref_E=x_ref_E/v_ref_E\n",
    "\n",
    "#Lorenz transformation about time from a static reference to a moving refrence relative with spped v_ref\n",
    "v_rel=v_ref_E\n",
    "t_ref_S=(t_ref_E-v_rel*x_ref_E/c**2)/mt.sqrt(1-v_rel**2/c**2)\n",
    "\n",
    "print(f\"(a) oberved on Earth:{t_ref_E:.5f} years;\")\n",
    "print(f\"(b) oberved on board the ship:{t_ref_S:.5f} years.\")\n"
   ]
  },
  {
   "cell_type": "markdown",
   "id": "9a0f2681-3d7d-41e3-a6c6-be2f635f0575",
   "metadata": {
    "tags": []
   },
   "source": [
    "*** Conclusion:\n",
    "\n",
    "In this exercise, we practice the skills of \n",
    "- define variables and carry out mathmatical calculations\n",
    "- interact with computer using functions of input() and print()\n",
    "- define constant"
   ]
  },
  {
   "cell_type": "code",
   "execution_count": null,
   "id": "dcc8c4ad-5bec-4c14-92b1-8a757fbbd0cb",
   "metadata": {},
   "outputs": [],
   "source": []
  }
 ],
 "metadata": {
  "kernelspec": {
   "display_name": "Python 3 (ipykernel)",
   "language": "python",
   "name": "python3"
  },
  "language_info": {
   "codemirror_mode": {
    "name": "ipython",
    "version": 3
   },
   "file_extension": ".py",
   "mimetype": "text/x-python",
   "name": "python",
   "nbconvert_exporter": "python",
   "pygments_lexer": "ipython3",
   "version": "3.11.5"
  }
 },
 "nbformat": 4,
 "nbformat_minor": 5
}
