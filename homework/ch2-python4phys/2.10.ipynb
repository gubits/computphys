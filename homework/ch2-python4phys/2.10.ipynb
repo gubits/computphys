{
 "cells": [
  {
   "cell_type": "markdown",
   "id": "92135347-22c5-44ef-867e-eb21cbb6d419",
   "metadata": {
    "tags": []
   },
   "source": [
    "## 2.10 Nuclear binding energy\n",
    "\n",
    "In nuclear physics, the semi-empirical mass formula is a formula\n",
    "for calculating the approximate nuclear binding energy $B$ of an atomic\n",
    "nucleus with atomic number $Z$ and mass number $A$:\n",
    "$$\n",
    "B = a_1 A - a_2 A^{2/3} - a_3 {Z^2\\over A^{1/3}}\n",
    "    - a_4 {(A - 2Z)^2\\over A} + {a_5\\over A^{1/2}}\\,,\n",
    "$$\n",
    "where, in units of millions of electron volts, the constants are\n",
    "$a_1=15.8$, $a_2=18.3$, $a_3=0.714$, $a_4=23.2$, and\n",
    "$$\n",
    "a_5 = \\left\\lbrace\\begin{array}{ll}\n",
    "      0     &\\quad\\mbox{if $A$ is odd,} \\\\\n",
    "      12.0  &\\quad\\mbox{if $A$ and $Z$ are both even,} \\\\\n",
    "      -12.0 &\\quad\\mbox{if $A$ is even and $Z$ is odd.}\n",
    "      \\end{array}\\right.\n",
    "$$\n",
    "- Write a program that takes as its input the values of $A$ and $Z$,\n",
    "  and prints out the binding energy for the corresponding atom.  Use your\n",
    "  program to find the binding energy of an atom with $A=58$ and $Z=28$.\n",
    "  (Hint: The correct answer is around $490\\,$MeV.)\n",
    "- Modify your program to print out not the total binding energy $B$,\n",
    "  but the binding energy per nucleon, which is $B/A$.\n",
    "- Now modify your program so that it takes as input just a single value\n",
    "  of the atomic number $Z$ and then goes through all values of $A$ from\n",
    "  $A=Z$ to $A=3Z$, to find the one that has the largest binding energy per\n",
    "  nucleon.  This is the most stable nucleus with the given atomic number.\n",
    "  Have your program print out the value of $A$ for this most stable nucleus\n",
    "  and the value of the binding energy per nucleon.\n",
    "- Modify your program again so that, instead of taking $Z$ as input, it\n",
    "  runs through all values of $Z$ from 1 to 100 and prints out the most\n",
    "  stable value of $A$ for each one.  At what value of $Z$ does the maximum\n",
    "  binding energy per nucleon occur?  (The true answer, in real life, is\n",
    "  $Z=28$, which is nickel.)\n",
    "\n",
    "\n",
    "\n",
    "要利用半经验公式计算核素的结合能，只需要将质量数A和质子数Z代入半经验公式计算即可。编程时需注意条件语句if、elif、for的用法，确保计算结果正确。\n"
   ]
  },
  {
   "cell_type": "code",
   "execution_count": null,
   "id": "c1aa23c4-ab21-4b5c-84c7-683bc47e9805",
   "metadata": {
    "tags": []
   },
   "outputs": [],
   "source": [
    "## answer a and b\n",
    "\n",
    "import math\n",
    "Z=int(input('Please input the atomic number Z:'))\n",
    "A=int(input('Please input the mass number A:'))\n",
    "\n",
    "a1=15.67\n",
    "a2=17.23\n",
    "a3=0.75\n",
    "a4=93.2\n",
    "\n",
    "# determine a5 based on the propertitis of A and B\n",
    "if(A%2==1):\n",
    "    a5=0\n",
    "elif(A%2==0 and Z%2==0):\n",
    "    a5=12.0\n",
    "elif(A%2==0 and Z%2==1):\n",
    "    a5=-12.0\n",
    "    \n",
    "B=a1*A-a2*(math.pow(A,2/3))-a3*(math.pow(Z,2))/(math.pow(A,1/3))-a4*(math.pow((A-2*Z),2))/A+a5/(math.pow(A,1/2))\n",
    "\n",
    "print('a) B=',B,'MeV')\n",
    "print('b) B/A=',B/A,'MeV')\n",
    "#input('press any key to quit')"
   ]
  },
  {
   "cell_type": "code",
   "execution_count": null,
   "id": "7e951e40-16af-4af7-84ca-57a6f6970495",
   "metadata": {
    "tags": []
   },
   "outputs": [],
   "source": [
    "## answer c\n",
    "import math\n",
    "Z=int(input('Please input the atomic number Z:'))\n",
    "a1=15.67\n",
    "a2=17.23\n",
    "a3=0.75\n",
    "a4=93.2\n",
    "B_max=0\n",
    "A_bmax=Z\n",
    "for A in range(Z,10*Z):\n",
    "    #print(\"A=\", A)\n",
    "    if(A%2==1):\n",
    "        a5=0\n",
    "    elif(A%2==0 and Z%2==0):\n",
    "        a5=12.0\n",
    "    elif(A%2==0 and Z%2==1):\n",
    "        a5=-12.0\n",
    "\n",
    "    b=a1*A-a2*(math.pow(A,2/3))-a3*(math.pow(Z,2))/(math.pow(A,1/3))-a4*(math.pow((A-2*Z),2))/A+a5/(math.pow(A,1/2))\n",
    "    if(b>B_max):\n",
    "        B_max=b\n",
    "        A_bmax=A\n",
    "     \n",
    "print('c) the Max B =',B_max,'MeV', \"when A=\", A_bmax)\n",
    "print(' and the Max B/A=',B_max/A_bmax,'MeV')\n",
    "#input('press any key to quit')"
   ]
  },
  {
   "cell_type": "code",
   "execution_count": 29,
   "id": "6ea2d31e-454e-4a05-a9ab-e5ce512c5621",
   "metadata": {
    "tags": []
   },
   "outputs": [
    {
     "name": "stdout",
     "output_type": "stream",
     "text": [
      "The most stable atom among all atoms is (Z,A,B/A)= ( 24 50 8.532622751365931 )\n"
     ]
    },
    {
     "data": {
      "image/png": "[encoded data removed]",
      "text/plain": [
       "<Figure size 640x480 with 1 Axes>"
      ]
     },
     "metadata": {},
     "output_type": "display_data"
    }
   ],
   "source": [
    "# Answer d\n",
    "# We introduce a user defined function \n",
    "import math\n",
    "import numpy as np\n",
    "import pylab as pl\n",
    "    \n",
    "def BE(A,Z):\n",
    "    a1=15.67\n",
    "    a2=17.23\n",
    "    a3=0.75\n",
    "    a4=93.2\n",
    "    if(A%2==1):\n",
    "        a5=0\n",
    "    elif(A%2==0 and Z%2==0):\n",
    "        a5=12.0\n",
    "    elif(A%2==0 and Z%2==1):\n",
    "        a5=-12.0\n",
    "\n",
    "    b=a1*A-a2*(math.pow(A,2/3))-a3*(math.pow(Z,2))/(math.pow(A,1/3))-a4*(math.pow((A-2*Z),2))/A+a5/(math.pow(A,1/2))\n",
    "    bpu=b/A\n",
    "    return bpu\n",
    "\n",
    "# Max binding energy per nucleon for all nucleons.\n",
    "Bpu_maxall=0 \n",
    "A_maxall=0\n",
    "Z_maxall=0\n",
    "ZA_Bmaxlist=np.zeros([100,2],float)\n",
    "for Z in range(1,101):\n",
    "    Bpu_max=0\n",
    "    A_bpu_max=0\n",
    "    \n",
    "    for A in range(Z,3*Z):\n",
    "        bpu = BE(A,Z)\n",
    "        # select Bpu_max for a given Z\n",
    "        if(bpu>Bpu_max):         \n",
    "            Bpu_max=bpu\n",
    "            A_bpu_max=A\n",
    "                    \n",
    "        if(Bpu_max>Bpu_maxall):\n",
    "            Bpu_maxall=Bpu_max\n",
    "            Z_maxall=Z\n",
    "            A_maxall=A\n",
    "    ZA_Bmaxlist[Z-1,:]=[Z,Bpu_max]\n",
    "            \n",
    "   # print('For Z=',Z,',the most stable atom is A=',A_maxb,'with B/A=',Bpu_max,'MeV')\n",
    "print(\"The most stable atom among all atoms is (Z,A,B/A)=\",\"(\",Z_maxall,A_maxall,Bpu_maxall,\")\") \n",
    "pl.plot(ZA_Bmaxlist[:,1])\n",
    "pl.xlabel(\"Z\")\n",
    "pl.ylabel(\"B/A MeV/neu\")\n",
    "pl.show()\n",
    "\n",
    "#input('press any key to quit')\n"
   ]
  }
 ],
 "metadata": {
  "kernelspec": {
   "display_name": "Python 3 (ipykernel)",
   "language": "python",
   "name": "python3"
  },
  "language_info": {
   "codemirror_mode": {
    "name": "ipython",
    "version": 3
   },
   "file_extension": ".py",
   "mimetype": "text/x-python",
   "name": "python",
   "nbconvert_exporter": "python",
   "pygments_lexer": "ipython3",
   "version": "3.11.5"
  }
 },
 "nbformat": 4,
 "nbformat_minor": 5
}
