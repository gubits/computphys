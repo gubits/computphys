{
 "cells": [
  {
   "cell_type": "markdown",
   "id": "5db99736-187d-49ff-b4b2-cc92f393781d",
   "metadata": {},
   "source": [
    "## 2.9   The Madelung constant\n",
    "\n",
    "In condensed matter physics the **Madelung constant** gives the total\n",
    "electric potential felt by an atom in a solid.  It depends on the charges\n",
    "on the other atoms nearby and their locations.  Consider for instance solid\n",
    "sodium chloride---table salt.  The sodium chloride crystal has atoms\n",
    "arranged on a cubic lattice, but with alternating sodium and chlorine\n",
    "atoms, the sodium ones having a single positive charge $+e$ and the\n",
    "chlorine ones a single negative charge $-e$, where $e$ is the charge on the\n",
    "electron. If we label each position on the lattice by three integer\n",
    "coordinates $(i,j,k)$, then the sodium atoms fall at positions where\n",
    "$i+j+k$ is even, and the chlorine atoms at positions where $i+j+k$ is odd.\n",
    "\n",
    "Consider a sodium atom at the origin, $i=j=k=0$, and let us calculate the\n",
    "Madelung constant.  If the spacing of atoms on the lattice is $a$, then the\n",
    "distance from the origin to the atom at position $(i,j,k)$ is\n",
    "$$\n",
    "\\sqrt{(ia)^2 + (ja)^2 + (ka)^2} = a \\sqrt{i^2+j^2+k^2},\n",
    "$$\n",
    "and the potential at the origin created by such an atom is\n",
    "$$\n",
    "V(i,j,k) = \\pm {e\\over4\\pi\\epsilon_0 a\\sqrt{i^2+j^2+k^2}},\n",
    "$$\n",
    "with $\\epsilon_0$ being the permittivity of the vacuum and the sign of the\n",
    "expression depending on whether $i+j+k$ is even or odd.  The total\n",
    "potential felt by the sodium atom is then the sum of this quantity over all\n",
    "other atoms.  Let us assume a cubic box around the sodium at the origin,\n",
    "with $L$ atoms in all directions.  Then\n",
    "$$\n",
    "V_\\textrm{total} = \\sum_{\\substack{i,j,k=-L\\\\ \\textrm{not }i=j=k=0}}^L\n",
    "                   \\hspace{-0.5em} V(i,j,k)\n",
    "                 = {e\\over4\\pi\\epsilon_0 a}\\,M,\n",
    "$$\n",
    "where $M$ is the Madelung constant, at least approximately---technically\n",
    "the Madelung constant is the value of $M$ when $L\\to\\infty$, but one can\n",
    "get a good approximation just by using a large value of $L$.\n",
    "\n",
    "Write a program to calculate and print the Madelung constant for sodium\n",
    "chloride.  Use as large a value of $L$ as you can, while still having your\n",
    "program run in reasonable time---say in a minute or less.\n"
   ]
  },
  {
   "cell_type": "markdown",
   "id": "ac3ebf15-2805-4454-91be-d50b72ef6a9f",
   "metadata": {},
   "source": [
    "### Analysis:\n",
    "\n",
    "To calculate the Madelung constant of sodium chloride crystal, one simply needs to sum up the potentials of all the atoms surrounding the target atom. Sodium ions are assigned positive potentials, while chloride ions are assigned negative potentials. As the range number $L$ becomes sufficiently large, the sum will approach the theoretical value M from both above and below. When programming, it is important to note that when $i=j=k=0$, which represents the origin, this point should be excluded to avoid the program encountering an error due to division by zero."
   ]
  },
  {
   "cell_type": "code",
   "execution_count": null,
   "id": "7ecaf86b-b46e-43dd-a028-e91d69d94228",
   "metadata": {
    "tags": []
   },
   "outputs": [],
   "source": [
    "# A simple solution for one case with given L\n",
    "# with for loop \n",
    "import math\n",
    "L=int(input('Please input the number L of atoms:'))\n",
    "M=0.00\n",
    "\n",
    "for i in range(-L,L+1): \n",
    "    # note the total number and starting,ending points\n",
    "    # use range\n",
    "    for j in range(-L,L+1):\n",
    "        for k in range(-L,L+1):\n",
    "            if(i==j==k==0):\n",
    "                M=M\n",
    "            else:\n",
    "                 if((i+j+k)%2==0):\n",
    "                     # even sum\n",
    "                     M+=1/(math.sqrt(i*i+j*j+k*k))\n",
    "                 else:\n",
    "                     M+=-1/(math.sqrt(i*i+j*j+k*k))\n",
    "print('M=',-M)\n",
    "#input('press any key to quit')"
   ]
  },
  {
   "cell_type": "markdown",
   "id": "d873bbb3-38c1-4fff-b025-97b75e603ba0",
   "metadata": {
    "tags": []
   },
   "source": [
    "## Discussion and further thinking:\n",
    "    \n",
    "After a number of tests, it can be found that for $L>150$, $M$ converges with a relative variation less than $10^{-3}$. The relative change $\\delta$ of $M$ by increasing $L$, is a raliable parameter to describe the accuracy of the calculation. \n",
    "\n",
    "Define the relative variation of $M$ for $L$ to $L+1$ as: $$\\delta =\\frac{|M_{L+1}-M_L|}{M_L}.$$ We revise the code for automateic trunction during the increasing of $L$, e.g. the programe will be stopped once the criteria $\\delta_c$ is achieved.\n",
    "\n",
    "Another criteria for total running time $T_{max}$ can be set along with the $delta$ criteria. \n"
   ]
  },
  {
   "cell_type": "code",
   "execution_count": null,
   "id": "14cd8e1c-c2cb-4fbb-ae04-a41984944728",
   "metadata": {},
   "outputs": [],
   "source": [
    "# An imprved version,\n",
    "# Set a convergence criteria for M to L.\n",
    "# plot the M(L), show the convergence of M with L increases. \n",
    "# with if-conditional-statement\n",
    "import numpy as np\n",
    "import matplotlib.pyplot as plt\n",
    "criteria=float(input('Please input the criteria of convergency of M:'))\n",
    "\n",
    "delta=float(criteria+100.) # set an initial delta great than the criteria.\n",
    "L=0\n",
    "M=0.0\n",
    "print(\"L=\",L,\", delta=\",delta,\",criteria=\",criteria)\n",
    "while(delta>=criteria):\n",
    "    L+=1\n",
    "    Min=M\n",
    "    # print(\"L=\",L)    \n",
    "\n",
    "    for i in range(-L,L+1):\n",
    "        # print(\"i=\",i)\n",
    "        for j in range(-L,L+1):\n",
    "            for k in range(-L,L+1):\n",
    "                if(np.abs(i)==L or np.abs(j)==L or np.abs(k)==L):\n",
    "                # skip those has been sumarized\n",
    "                # add new point potentials on the out-most shell at L and -l. \n",
    "                    if((i+j+k)%2==0):\n",
    "                     # even sum\n",
    "                         M+=1/(np.sqrt(i*i+j*j+k*k))\n",
    "                    else:\n",
    "                         M-=1/(np.sqrt(i*i+j*j+k*k))\n",
    "    delta=np.abs(np.abs(M)-np.abs(Min))/np.abs(Min)\n",
    "    print(L,delta)\n",
    "print(\"When L=\",L,\", M converged to a relateive variation of \", delta)\n",
    "print(\"M=\",-M)     \n"
   ]
  },
  {
   "cell_type": "code",
   "execution_count": null,
   "id": "cd0df6d1-fdea-4397-a679-38c02f5f41f8",
   "metadata": {},
   "outputs": [],
   "source": []
  }
 ],
 "metadata": {
  "kernelspec": {
   "display_name": "Python 3 (ipykernel)",
   "language": "python",
   "name": "python3"
  },
  "language_info": {
   "codemirror_mode": {
    "name": "ipython",
    "version": 3
   },
   "file_extension": ".py",
   "mimetype": "text/x-python",
   "name": "python",
   "nbconvert_exporter": "python",
   "pygments_lexer": "ipython3",
   "version": "3.11.5"
  }
 },
 "nbformat": 4,
 "nbformat_minor": 5
}
